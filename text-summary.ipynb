{
 "cells": [
  {
   "cell_type": "code",
   "execution_count": 1,
   "metadata": {},
   "outputs": [],
   "source": [
    "import tensorflow as tf\n",
    "import pandas as pd\n",
    "import numpy as np\n",
    "import summarizer_data_utils"
   ]
  },
  {
   "cell_type": "markdown",
   "metadata": {},
   "source": [
    "# Load Data"
   ]
  },
  {
   "cell_type": "code",
   "execution_count": 2,
   "metadata": {},
   "outputs": [],
   "source": [
    "suckhoe = pd.read_csv(r'data/SucKhoe_GD02.csv', encoding='utf-8')"
   ]
  },
  {
   "cell_type": "code",
   "execution_count": 3,
   "metadata": {},
   "outputs": [
    {
     "data": {
      "text/html": [
       "<div>\n",
       "<style scoped>\n",
       "    .dataframe tbody tr th:only-of-type {\n",
       "        vertical-align: middle;\n",
       "    }\n",
       "\n",
       "    .dataframe tbody tr th {\n",
       "        vertical-align: top;\n",
       "    }\n",
       "\n",
       "    .dataframe thead th {\n",
       "        text-align: right;\n",
       "    }\n",
       "</style>\n",
       "<table border=\"1\" class=\"dataframe\">\n",
       "  <thead>\n",
       "    <tr style=\"text-align: right;\">\n",
       "      <th></th>\n",
       "      <th>title</th>\n",
       "      <th>link</th>\n",
       "      <th>time</th>\n",
       "      <th>content</th>\n",
       "      <th>sumary</th>\n",
       "      <th>author</th>\n",
       "    </tr>\n",
       "  </thead>\n",
       "  <tbody>\n",
       "    <tr>\n",
       "      <th>0</th>\n",
       "      <td>Bé sơ sinh bị mẹ nhiễm HIV bỏ rơi tại viện</td>\n",
       "      <td>https://suckhoe.vnexpress.net/tin-tuc/suc-khoe...</td>\n",
       "      <td>Thứ bảy, 8/9/2018, 08:38 (GMT+7)</td>\n",
       "      <td>Bị mẹ bỏ rơi, các bác sĩ ở Bệnh viện Trưng Vươ...</td>\n",
       "      <td>Bé trai mới sinh tay chân run rẩy do ảnh hưởng...</td>\n",
       "      <td>Lê Phương</td>\n",
       "    </tr>\n",
       "    <tr>\n",
       "      <th>1</th>\n",
       "      <td>Ngôi làng nhiều người sống thọ nhất thế giới</td>\n",
       "      <td>https://suckhoe.vnexpress.net/tin-tuc/suc-khoe...</td>\n",
       "      <td>Thứ bảy, 8/9/2018, 05:03 (GMT+7)</td>\n",
       "      <td>Theo các nhà nghiên cứu về tuổi già, ngoài Sar...</td>\n",
       "      <td>Hòn đảo Sardinia ở Italy được coi là một trong...</td>\n",
       "      <td>Thúy Quỳnh</td>\n",
       "    </tr>\n",
       "    <tr>\n",
       "      <th>2</th>\n",
       "      <td>10 bác sĩ mổ tim cứu bé sinh non nặng 600</td>\n",
       "      <td>https://suckhoe.vnexpress.net/tin-tuc/suc-khoe...</td>\n",
       "      <td>Thứ bảy, 8/9/2018, 00:03 (GMT+7)</td>\n",
       "      <td>Sau tuần điều trại tích cực, em bé đã ngưng đi...</td>\n",
       "      <td>Bé chào đời sớm tháng, chỉ nhỏ bằng bàn tay, đ...</td>\n",
       "      <td>Lê Phương</td>\n",
       "    </tr>\n",
       "    <tr>\n",
       "      <th>3</th>\n",
       "      <td>Cụ ông ung thư được ăn kem trước khi qua đời</td>\n",
       "      <td>https://suckhoe.vnexpress.net/tin-tuc/suc-khoe...</td>\n",
       "      <td>Thứ bảy, 8/9/2018, 10:07 (GMT+7)</td>\n",
       "      <td>Ông Ron McCartney (Australia) đã không ăn uống...</td>\n",
       "      <td>Lần cuối cùng tới viện, ông Ron McCartney được...</td>\n",
       "      <td>Phúc Lương</td>\n",
       "    </tr>\n",
       "    <tr>\n",
       "      <th>4</th>\n",
       "      <td>Tăng mức xử phạt vi phạm an toàn thực phẩm</td>\n",
       "      <td>https://suckhoe.vnexpress.net/tin-tuc/suc-khoe...</td>\n",
       "      <td>Thứ bảy, 8/9/2018, 16:35 (GMT+7)</td>\n",
       "      <td>Nghị định xử phạt vi phạm hành chính về an toà...</td>\n",
       "      <td>Sản xuất, chế biến thực phẩm từ động vật chưa ...</td>\n",
       "      <td>Nam Phương</td>\n",
       "    </tr>\n",
       "  </tbody>\n",
       "</table>\n",
       "</div>"
      ],
      "text/plain": [
       "                                          title  \\\n",
       "0    Bé sơ sinh bị mẹ nhiễm HIV bỏ rơi tại viện   \n",
       "1  Ngôi làng nhiều người sống thọ nhất thế giới   \n",
       "2     10 bác sĩ mổ tim cứu bé sinh non nặng 600   \n",
       "3  Cụ ông ung thư được ăn kem trước khi qua đời   \n",
       "4    Tăng mức xử phạt vi phạm an toàn thực phẩm   \n",
       "\n",
       "                                                link  \\\n",
       "0  https://suckhoe.vnexpress.net/tin-tuc/suc-khoe...   \n",
       "1  https://suckhoe.vnexpress.net/tin-tuc/suc-khoe...   \n",
       "2  https://suckhoe.vnexpress.net/tin-tuc/suc-khoe...   \n",
       "3  https://suckhoe.vnexpress.net/tin-tuc/suc-khoe...   \n",
       "4  https://suckhoe.vnexpress.net/tin-tuc/suc-khoe...   \n",
       "\n",
       "                               time  \\\n",
       "0  Thứ bảy, 8/9/2018, 08:38 (GMT+7)   \n",
       "1  Thứ bảy, 8/9/2018, 05:03 (GMT+7)   \n",
       "2  Thứ bảy, 8/9/2018, 00:03 (GMT+7)   \n",
       "3  Thứ bảy, 8/9/2018, 10:07 (GMT+7)   \n",
       "4  Thứ bảy, 8/9/2018, 16:35 (GMT+7)   \n",
       "\n",
       "                                             content  \\\n",
       "0  Bị mẹ bỏ rơi, các bác sĩ ở Bệnh viện Trưng Vươ...   \n",
       "1  Theo các nhà nghiên cứu về tuổi già, ngoài Sar...   \n",
       "2  Sau tuần điều trại tích cực, em bé đã ngưng đi...   \n",
       "3  Ông Ron McCartney (Australia) đã không ăn uống...   \n",
       "4  Nghị định xử phạt vi phạm hành chính về an toà...   \n",
       "\n",
       "                                              sumary      author  \n",
       "0  Bé trai mới sinh tay chân run rẩy do ảnh hưởng...   Lê Phương  \n",
       "1  Hòn đảo Sardinia ở Italy được coi là một trong...  Thúy Quỳnh  \n",
       "2  Bé chào đời sớm tháng, chỉ nhỏ bằng bàn tay, đ...   Lê Phương  \n",
       "3  Lần cuối cùng tới viện, ông Ron McCartney được...  Phúc Lương  \n",
       "4  Sản xuất, chế biến thực phẩm từ động vật chưa ...  Nam Phương  "
      ]
     },
     "execution_count": 3,
     "metadata": {},
     "output_type": "execute_result"
    }
   ],
   "source": [
    "suckhoe.head()"
   ]
  },
  {
   "cell_type": "code",
   "execution_count": 4,
   "metadata": {},
   "outputs": [],
   "source": [
    "suckhoe = suckhoe[['content','sumary']]"
   ]
  },
  {
   "cell_type": "code",
   "execution_count": 5,
   "metadata": {},
   "outputs": [
    {
     "data": {
      "text/plain": [
       "content    0\n",
       "sumary     0\n",
       "dtype: int64"
      ]
     },
     "execution_count": 5,
     "metadata": {},
     "output_type": "execute_result"
    }
   ],
   "source": [
    "suckhoe.isnull().sum()"
   ]
  },
  {
   "cell_type": "code",
   "execution_count": 6,
   "metadata": {},
   "outputs": [
    {
     "data": {
      "text/plain": [
       "26373"
      ]
     },
     "execution_count": 6,
     "metadata": {},
     "output_type": "execute_result"
    }
   ],
   "source": [
    "len(suckhoe)"
   ]
  },
  {
   "cell_type": "code",
   "execution_count": 7,
   "metadata": {},
   "outputs": [],
   "source": [
    "kinhdoanh = pd.read_csv(r'data/KinhDoanh_GD02.csv',encoding='utf-8')"
   ]
  },
  {
   "cell_type": "code",
   "execution_count": 8,
   "metadata": {},
   "outputs": [],
   "source": [
    "kinhdoanh=kinhdoanh[['content','sumary']]"
   ]
  },
  {
   "cell_type": "code",
   "execution_count": 9,
   "metadata": {},
   "outputs": [
    {
     "data": {
      "text/plain": [
       "content    0\n",
       "sumary     0\n",
       "dtype: int64"
      ]
     },
     "execution_count": 9,
     "metadata": {},
     "output_type": "execute_result"
    }
   ],
   "source": [
    "kinhdoanh.isnull().sum()"
   ]
  },
  {
   "cell_type": "code",
   "execution_count": 10,
   "metadata": {},
   "outputs": [
    {
     "data": {
      "text/plain": [
       "25183"
      ]
     },
     "execution_count": 10,
     "metadata": {},
     "output_type": "execute_result"
    }
   ],
   "source": [
    "len(kinhdoanh)"
   ]
  },
  {
   "cell_type": "code",
   "execution_count": 11,
   "metadata": {},
   "outputs": [],
   "source": [
    "giaitri = pd.read_csv(r'data/GiaiTriThoiTrang_GD02.csv',encoding='utf-8')"
   ]
  },
  {
   "cell_type": "code",
   "execution_count": 12,
   "metadata": {},
   "outputs": [],
   "source": [
    "giaitri = giaitri[['content','sumary']]"
   ]
  },
  {
   "cell_type": "code",
   "execution_count": 13,
   "metadata": {},
   "outputs": [
    {
     "data": {
      "text/plain": [
       "content    0\n",
       "sumary     0\n",
       "dtype: int64"
      ]
     },
     "execution_count": 13,
     "metadata": {},
     "output_type": "execute_result"
    }
   ],
   "source": [
    "giaitri.isnull().sum()"
   ]
  },
  {
   "cell_type": "code",
   "execution_count": 14,
   "metadata": {},
   "outputs": [
    {
     "data": {
      "text/plain": [
       "20469"
      ]
     },
     "execution_count": 14,
     "metadata": {},
     "output_type": "execute_result"
    }
   ],
   "source": [
    "len(giaitri)"
   ]
  },
  {
   "cell_type": "code",
   "execution_count": 15,
   "metadata": {},
   "outputs": [],
   "source": [
    "thethao = pd.read_csv(r'data/TheThao_GD02.csv',encoding='utf-8')"
   ]
  },
  {
   "cell_type": "code",
   "execution_count": 16,
   "metadata": {},
   "outputs": [],
   "source": [
    "thethao = thethao[['content','sumary']]"
   ]
  },
  {
   "cell_type": "code",
   "execution_count": 17,
   "metadata": {},
   "outputs": [
    {
     "data": {
      "text/plain": [
       "13400"
      ]
     },
     "execution_count": 17,
     "metadata": {},
     "output_type": "execute_result"
    }
   ],
   "source": [
    "len(thethao)"
   ]
  },
  {
   "cell_type": "code",
   "execution_count": 18,
   "metadata": {},
   "outputs": [],
   "source": [
    "thoisu = pd.read_csv(r'data/ThoiSuVaTheGioi_GD02.csv',encoding='utf-8')"
   ]
  },
  {
   "cell_type": "code",
   "execution_count": 19,
   "metadata": {},
   "outputs": [],
   "source": [
    "thoisu = thoisu[['content','sumary']]"
   ]
  },
  {
   "cell_type": "code",
   "execution_count": 20,
   "metadata": {},
   "outputs": [
    {
     "data": {
      "text/plain": [
       "content      0\n",
       "sumary     487\n",
       "dtype: int64"
      ]
     },
     "execution_count": 20,
     "metadata": {},
     "output_type": "execute_result"
    }
   ],
   "source": [
    "thoisu.isnull().sum()"
   ]
  },
  {
   "cell_type": "code",
   "execution_count": 21,
   "metadata": {},
   "outputs": [],
   "source": [
    "thoisu = thoisu.dropna()"
   ]
  },
  {
   "cell_type": "code",
   "execution_count": 22,
   "metadata": {},
   "outputs": [
    {
     "data": {
      "text/plain": [
       "content    0\n",
       "sumary     0\n",
       "dtype: int64"
      ]
     },
     "execution_count": 22,
     "metadata": {},
     "output_type": "execute_result"
    }
   ],
   "source": [
    "thoisu.isnull().sum()"
   ]
  },
  {
   "cell_type": "code",
   "execution_count": 23,
   "metadata": {},
   "outputs": [
    {
     "data": {
      "text/plain": [
       "11185"
      ]
     },
     "execution_count": 23,
     "metadata": {},
     "output_type": "execute_result"
    }
   ],
   "source": [
    "len(thoisu)"
   ]
  },
  {
   "cell_type": "code",
   "execution_count": 24,
   "metadata": {},
   "outputs": [],
   "source": [
    "data = pd.concat([thoisu,thethao,giaitri,suckhoe,kinhdoanh])"
   ]
  },
  {
   "cell_type": "code",
   "execution_count": 69,
   "metadata": {
    "scrolled": true
   },
   "outputs": [
    {
     "data": {
      "text/html": [
       "<div>\n",
       "<style scoped>\n",
       "    .dataframe tbody tr th:only-of-type {\n",
       "        vertical-align: middle;\n",
       "    }\n",
       "\n",
       "    .dataframe tbody tr th {\n",
       "        vertical-align: top;\n",
       "    }\n",
       "\n",
       "    .dataframe thead th {\n",
       "        text-align: right;\n",
       "    }\n",
       "</style>\n",
       "<table border=\"1\" class=\"dataframe\">\n",
       "  <thead>\n",
       "    <tr style=\"text-align: right;\">\n",
       "      <th></th>\n",
       "      <th>Summary</th>\n",
       "      <th>Text</th>\n",
       "    </tr>\n",
       "  </thead>\n",
       "  <tbody>\n",
       "    <tr>\n",
       "      <th>0</th>\n",
       "      <td>Tay vợt người Tây Ban Nha giành chiến thắng 7-...</td>\n",
       "      <td>Nadal ăn mừng chiến thắng kịch tính trước Wawr...</td>\n",
       "    </tr>\n",
       "    <tr>\n",
       "      <th>1</th>\n",
       "      <td>Chiếc tàu ngầm hạt nhân chiến lược lớp Borey t...</td>\n",
       "      <td>Tàu ngầm hạt nhân Alexander Nevsky. Ảnh: RIA N...</td>\n",
       "    </tr>\n",
       "    <tr>\n",
       "      <th>2</th>\n",
       "      <td>Một nghiên cứu mới chỉ ra quan hệ tình dục làm...</td>\n",
       "      <td>Kết luận được đăng tải trên tờ Journal of Heal...</td>\n",
       "    </tr>\n",
       "    <tr>\n",
       "      <th>3</th>\n",
       "      <td>Ines Ramires, 40 tuổi, ở làng Rio-Telea hẻo lá...</td>\n",
       "      <td>Người hàng xóm Leon đã suýt chết ngất khi ghé ...</td>\n",
       "    </tr>\n",
       "    <tr>\n",
       "      <th>4</th>\n",
       "      <td>Hãng đánh giá tín dụng Moody’s vừa nâng một bậ...</td>\n",
       "      <td>Trần tín nhiệm với trái phiếu dài hạn phát hàn...</td>\n",
       "    </tr>\n",
       "  </tbody>\n",
       "</table>\n",
       "</div>"
      ],
      "text/plain": [
       "                                             Summary  \\\n",
       "0  Tay vợt người Tây Ban Nha giành chiến thắng 7-...   \n",
       "1  Chiếc tàu ngầm hạt nhân chiến lược lớp Borey t...   \n",
       "2  Một nghiên cứu mới chỉ ra quan hệ tình dục làm...   \n",
       "3  Ines Ramires, 40 tuổi, ở làng Rio-Telea hẻo lá...   \n",
       "4  Hãng đánh giá tín dụng Moody’s vừa nâng một bậ...   \n",
       "\n",
       "                                                Text  \n",
       "0  Nadal ăn mừng chiến thắng kịch tính trước Wawr...  \n",
       "1  Tàu ngầm hạt nhân Alexander Nevsky. Ảnh: RIA N...  \n",
       "2  Kết luận được đăng tải trên tờ Journal of Heal...  \n",
       "3  Người hàng xóm Leon đã suýt chết ngất khi ghé ...  \n",
       "4  Trần tín nhiệm với trái phiếu dài hạn phát hàn...  "
      ]
     },
     "execution_count": 69,
     "metadata": {},
     "output_type": "execute_result"
    }
   ],
   "source": [
    "train_data.head()"
   ]
  },
  {
   "cell_type": "code",
   "execution_count": 26,
   "metadata": {},
   "outputs": [
    {
     "data": {
      "text/plain": [
       "96610"
      ]
     },
     "execution_count": 26,
     "metadata": {},
     "output_type": "execute_result"
    }
   ],
   "source": []
  },
  {
   "cell_type": "code",
   "execution_count": 27,
   "metadata": {},
   "outputs": [],
   "source": [
    "data.rename(index = str, columns = {'sumary':'Summary', 'content':'Text'}, inplace = True)"
   ]
  },
  {
   "cell_type": "code",
   "execution_count": 28,
   "metadata": {},
   "outputs": [],
   "source": [
    "data = data[['Summary', 'Text']]"
   ]
  },
  {
   "cell_type": "code",
   "execution_count": 29,
   "metadata": {},
   "outputs": [
    {
     "data": {
      "text/html": [
       "<div>\n",
       "<style scoped>\n",
       "    .dataframe tbody tr th:only-of-type {\n",
       "        vertical-align: middle;\n",
       "    }\n",
       "\n",
       "    .dataframe tbody tr th {\n",
       "        vertical-align: top;\n",
       "    }\n",
       "\n",
       "    .dataframe thead th {\n",
       "        text-align: right;\n",
       "    }\n",
       "</style>\n",
       "<table border=\"1\" class=\"dataframe\">\n",
       "  <thead>\n",
       "    <tr style=\"text-align: right;\">\n",
       "      <th></th>\n",
       "      <th>Summary</th>\n",
       "      <th>Text</th>\n",
       "    </tr>\n",
       "  </thead>\n",
       "  <tbody>\n",
       "    <tr>\n",
       "      <th>0</th>\n",
       "      <td>Cậu bé 11 tuổi ở Trung Quốc đang được cấp cứu ...</td>\n",
       "      <td>Một bé trai có bố mẹ đi làm ăn xaở vùng nông t...</td>\n",
       "    </tr>\n",
       "    <tr>\n",
       "      <th>1</th>\n",
       "      <td>Một công ty dân sự Trung Quốc thử nghiệm thành...</td>\n",
       "      <td>Hình ảnh mô phỏng tiêm kích J-31 Trung Quốc ph...</td>\n",
       "    </tr>\n",
       "    <tr>\n",
       "      <th>2</th>\n",
       "      <td>Thiết bị siêu vượt âm của Trung Quốc tách thàn...</td>\n",
       "      <td>Global Times ngày 5/8 đăng video cho thấy Viện...</td>\n",
       "    </tr>\n",
       "    <tr>\n",
       "      <th>3</th>\n",
       "      <td>Công dân họ Pyo hôm qua được Triều Tiên trao t...</td>\n",
       "      <td>Binh sĩ Hàn Quốc canh gác tại khu vực biên giớ...</td>\n",
       "    </tr>\n",
       "    <tr>\n",
       "      <th>4</th>\n",
       "      <td>Quan điểm của Tổng thống Mỹ là lệnh trừng phạt...</td>\n",
       "      <td>Lãnh đạo Triều Tiên (trái) và Tổng thống Mỹ tạ...</td>\n",
       "    </tr>\n",
       "  </tbody>\n",
       "</table>\n",
       "</div>"
      ],
      "text/plain": [
       "                                             Summary  \\\n",
       "0  Cậu bé 11 tuổi ở Trung Quốc đang được cấp cứu ...   \n",
       "1  Một công ty dân sự Trung Quốc thử nghiệm thành...   \n",
       "2  Thiết bị siêu vượt âm của Trung Quốc tách thàn...   \n",
       "3  Công dân họ Pyo hôm qua được Triều Tiên trao t...   \n",
       "4  Quan điểm của Tổng thống Mỹ là lệnh trừng phạt...   \n",
       "\n",
       "                                                Text  \n",
       "0  Một bé trai có bố mẹ đi làm ăn xaở vùng nông t...  \n",
       "1  Hình ảnh mô phỏng tiêm kích J-31 Trung Quốc ph...  \n",
       "2  Global Times ngày 5/8 đăng video cho thấy Viện...  \n",
       "3  Binh sĩ Hàn Quốc canh gác tại khu vực biên giớ...  \n",
       "4  Lãnh đạo Triều Tiên (trái) và Tổng thống Mỹ tạ...  "
      ]
     },
     "execution_count": 29,
     "metadata": {},
     "output_type": "execute_result"
    }
   ],
   "source": [
    "data.head()"
   ]
  },
  {
   "cell_type": "markdown",
   "metadata": {},
   "source": [
    "# chia dữ liệu để train, val, test"
   ]
  },
  {
   "cell_type": "code",
   "execution_count": null,
   "metadata": {},
   "outputs": [],
   "source": [
    "from sklearn.utils import shuffle\n",
    "df = shuffle(data)\n",
    "df = df.reset_index(drop=True)\n",
    "len_data_train = int(len(df)*0.9)\n",
    "train_data =  df[:len_data_train]\n",
    "test_data = df[len_data_train:int(len(df)*0.95)]\n",
    "val_data = df[int(len(df)*0.95):]"
   ]
  },
  {
   "cell_type": "markdown",
   "metadata": {},
   "source": [
    "# Process data"
   ]
  },
  {
   "cell_type": "code",
   "execution_count": 72,
   "metadata": {},
   "outputs": [],
   "source": [
    "texts_unprocessed = train_data.Text\n",
    "summaries_unprocessed = train_data.Summary"
   ]
  },
  {
   "cell_type": "code",
   "execution_count": 36,
   "metadata": {},
   "outputs": [],
   "source": [
    "x1 = texts_unprocessed[0:10]"
   ]
  },
  {
   "cell_type": "code",
   "execution_count": 39,
   "metadata": {},
   "outputs": [],
   "source": [
    "stopwords  = pd.read_csv(r\"vietnamese-stopwords.txt\",header=None)"
   ]
  },
  {
   "cell_type": "code",
   "execution_count": 40,
   "metadata": {},
   "outputs": [],
   "source": [
    "sumword = [i for i in stopwords[0]]"
   ]
  },
  {
   "cell_type": "code",
   "execution_count": 73,
   "metadata": {},
   "outputs": [
    {
     "name": "stdout",
     "output_type": "stream",
     "text": [
      "Processing Time:  898.134126663208\n"
     ]
    }
   ],
   "source": [
    "processed_texts, processed_summaries, word_counts = summarizer_data_utils.preprocess_texts_and_summaries(\n",
    "    texts_unprocessed,\n",
    "    summaries_unprocessed,\n",
    "    sumword\n",
    "    )"
   ]
  },
  {
   "cell_type": "markdown",
   "metadata": {},
   "source": [
    "# Train and val "
   ]
  },
  {
   "cell_type": "code",
   "execution_count": null,
   "metadata": {},
   "outputs": [],
   "source": []
  },
  {
   "cell_type": "code",
   "execution_count": null,
   "metadata": {},
   "outputs": [],
   "source": []
  }
 ],
 "metadata": {
  "kernelspec": {
   "display_name": "Python 3",
   "language": "python",
   "name": "python3"
  },
  "language_info": {
   "codemirror_mode": {
    "name": "ipython",
    "version": 3
   },
   "file_extension": ".py",
   "mimetype": "text/x-python",
   "name": "python",
   "nbconvert_exporter": "python",
   "pygments_lexer": "ipython3",
   "version": "3.6.5"
  }
 },
 "nbformat": 4,
 "nbformat_minor": 2
}
